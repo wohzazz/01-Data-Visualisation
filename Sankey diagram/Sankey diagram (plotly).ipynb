{
 "cells": [
  {
   "cell_type": "markdown",
   "metadata": {
    "toc": true
   },
   "source": [
    "<h1>Table of Contents<span class=\"tocSkip\"></span></h1>\n",
    "<div class=\"toc\"><ul class=\"toc-item\"><li><span><a href=\"#Sankey-Digrams\" data-toc-modified-id=\"Sankey-Digrams-1\"><span class=\"toc-item-num\">1&nbsp;&nbsp;</span>Sankey Digrams</a></span></li></ul></div>"
   ]
  },
  {
   "cell_type": "markdown",
   "metadata": {},
   "source": [
    "# Sankey Digrams \n",
    "\n",
    "Resources\n",
    "\n",
    "Used this\n",
    "https://medium.com/kenlok/how-to-create-sankey-diagrams-from-dataframes-in-python-e221c1b4d6b0\n",
    "\n",
    "More configuration options here\n",
    "https://towardsdatascience.com/sankey-diagram-basics-with-pythons-plotly-7a13d557401"
   ]
  },
  {
   "cell_type": "code",
   "execution_count": 5,
   "metadata": {
    "ExecuteTime": {
     "end_time": "2021-09-17T07:17:56.731963Z",
     "start_time": "2021-09-17T07:17:56.700058Z"
    }
   },
   "outputs": [
    {
     "data": {
      "text/html": [
       "<div>\n",
       "<style scoped>\n",
       "    .dataframe tbody tr th:only-of-type {\n",
       "        vertical-align: middle;\n",
       "    }\n",
       "\n",
       "    .dataframe tbody tr th {\n",
       "        vertical-align: top;\n",
       "    }\n",
       "\n",
       "    .dataframe thead th {\n",
       "        text-align: right;\n",
       "    }\n",
       "</style>\n",
       "<table border=\"1\" class=\"dataframe\">\n",
       "  <thead>\n",
       "    <tr style=\"text-align: right;\">\n",
       "      <th></th>\n",
       "      <th>lvl1</th>\n",
       "      <th>lvl2_event</th>\n",
       "      <th>lvl2_num_perc</th>\n",
       "      <th>lvl2_display</th>\n",
       "      <th>lvl3</th>\n",
       "      <th>lvl4</th>\n",
       "      <th>MyEDB</th>\n",
       "      <th>count</th>\n",
       "    </tr>\n",
       "  </thead>\n",
       "  <tbody>\n",
       "    <tr>\n",
       "      <th>0</th>\n",
       "      <td>OpenTran 202010</td>\n",
       "      <td>MyEDB month 0</td>\n",
       "      <td>10 customers, (10%)</td>\n",
       "      <td>MyEDB month 0 : 10 customers, (10%)</td>\n",
       "      <td>salary credit</td>\n",
       "      <td>happy</td>\n",
       "      <td>MyEDB August</td>\n",
       "      <td>5</td>\n",
       "    </tr>\n",
       "    <tr>\n",
       "      <th>1</th>\n",
       "      <td>OpenTran 202010</td>\n",
       "      <td>MyEDB month 0</td>\n",
       "      <td>5 customers, (5%)</td>\n",
       "      <td>MyEDB month 0 : 5 customers, (5%)</td>\n",
       "      <td>non sc</td>\n",
       "      <td>happy</td>\n",
       "      <td>MyEDB August</td>\n",
       "      <td>2</td>\n",
       "    </tr>\n",
       "    <tr>\n",
       "      <th>2</th>\n",
       "      <td>OpenTran 202010</td>\n",
       "      <td>MyEDB month 0</td>\n",
       "      <td>10 customers, (10%)</td>\n",
       "      <td>MyEDB month 0 : 10 customers, (10%)</td>\n",
       "      <td>salary credit</td>\n",
       "      <td>happy</td>\n",
       "      <td>not MyEDB August</td>\n",
       "      <td>3</td>\n",
       "    </tr>\n",
       "    <tr>\n",
       "      <th>3</th>\n",
       "      <td>OpenTran 202010</td>\n",
       "      <td>MyEDB month 0</td>\n",
       "      <td>10 customers, (10%)</td>\n",
       "      <td>MyEDB month 0 : 10 customers, (10%)</td>\n",
       "      <td>non sc</td>\n",
       "      <td>happy</td>\n",
       "      <td>not MyEDB August</td>\n",
       "      <td>8</td>\n",
       "    </tr>\n",
       "    <tr>\n",
       "      <th>4</th>\n",
       "      <td>OpenTran 202010</td>\n",
       "      <td>MyEDB month 1</td>\n",
       "      <td>10 customers, (10%)</td>\n",
       "      <td>MyEDB month 1 : 10 customers, (10%)</td>\n",
       "      <td>salary credit</td>\n",
       "      <td>happy</td>\n",
       "      <td>MyEDB August</td>\n",
       "      <td>2</td>\n",
       "    </tr>\n",
       "    <tr>\n",
       "      <th>5</th>\n",
       "      <td>OpenTran 202010</td>\n",
       "      <td>non sc</td>\n",
       "      <td>10 customers, (10%)</td>\n",
       "      <td>non sc : 10 customers, (10%)</td>\n",
       "      <td>MyEDB month 0</td>\n",
       "      <td>happy</td>\n",
       "      <td>MyEDB August</td>\n",
       "      <td>4</td>\n",
       "    </tr>\n",
       "    <tr>\n",
       "      <th>6</th>\n",
       "      <td>OpenTran 202010</td>\n",
       "      <td>salary credit</td>\n",
       "      <td>10 customers, (10%)</td>\n",
       "      <td>salary credit  : 10 customers, (10%)</td>\n",
       "      <td>MyEDB month 0</td>\n",
       "      <td>happy</td>\n",
       "      <td>MyEDB August</td>\n",
       "      <td>1</td>\n",
       "    </tr>\n",
       "    <tr>\n",
       "      <th>7</th>\n",
       "      <td>OpenTran 202010</td>\n",
       "      <td>non sc</td>\n",
       "      <td>10 customers, (10%)</td>\n",
       "      <td>non sc : 10 customers, (10%)</td>\n",
       "      <td>MyEDB month 1</td>\n",
       "      <td>happy</td>\n",
       "      <td>MyEDB August</td>\n",
       "      <td>3</td>\n",
       "    </tr>\n",
       "    <tr>\n",
       "      <th>8</th>\n",
       "      <td>OpenTran 202010</td>\n",
       "      <td>not myedb</td>\n",
       "      <td>10 customers, (10%)</td>\n",
       "      <td>not myedb : 10 customers, (10%)</td>\n",
       "      <td>NaN</td>\n",
       "      <td>NaN</td>\n",
       "      <td>NaN</td>\n",
       "      <td>4</td>\n",
       "    </tr>\n",
       "    <tr>\n",
       "      <th>9</th>\n",
       "      <td>OpenTran 202010</td>\n",
       "      <td>not myedb</td>\n",
       "      <td>10 customers, (10%)</td>\n",
       "      <td>not myedb : 10 customers, (10%)</td>\n",
       "      <td>NaN</td>\n",
       "      <td>NaN</td>\n",
       "      <td>NaN</td>\n",
       "      <td>6</td>\n",
       "    </tr>\n",
       "    <tr>\n",
       "      <th>10</th>\n",
       "      <td>OpenTran 202010</td>\n",
       "      <td>not myedb</td>\n",
       "      <td>10 customers, (10%)</td>\n",
       "      <td>not myedb : 10 customers, (10%)</td>\n",
       "      <td>NaN</td>\n",
       "      <td>NaN</td>\n",
       "      <td>NaN</td>\n",
       "      <td>3</td>\n",
       "    </tr>\n",
       "  </tbody>\n",
       "</table>\n",
       "</div>"
      ],
      "text/plain": [
       "               lvl1      lvl2_event        lvl2_num_perc  \\\n",
       "0   OpenTran 202010   MyEDB month 0  10 customers, (10%)   \n",
       "1   OpenTran 202010   MyEDB month 0    5 customers, (5%)   \n",
       "2   OpenTran 202010   MyEDB month 0  10 customers, (10%)   \n",
       "3   OpenTran 202010   MyEDB month 0  10 customers, (10%)   \n",
       "4   OpenTran 202010   MyEDB month 1  10 customers, (10%)   \n",
       "5   OpenTran 202010          non sc  10 customers, (10%)   \n",
       "6   OpenTran 202010  salary credit   10 customers, (10%)   \n",
       "7   OpenTran 202010          non sc  10 customers, (10%)   \n",
       "8   OpenTran 202010       not myedb  10 customers, (10%)   \n",
       "9   OpenTran 202010       not myedb  10 customers, (10%)   \n",
       "10  OpenTran 202010       not myedb  10 customers, (10%)   \n",
       "\n",
       "                            lvl2_display            lvl3   lvl4  \\\n",
       "0    MyEDB month 0 : 10 customers, (10%)  salary credit   happy   \n",
       "1      MyEDB month 0 : 5 customers, (5%)          non sc  happy   \n",
       "2    MyEDB month 0 : 10 customers, (10%)  salary credit   happy   \n",
       "3    MyEDB month 0 : 10 customers, (10%)          non sc  happy   \n",
       "4    MyEDB month 1 : 10 customers, (10%)  salary credit   happy   \n",
       "5           non sc : 10 customers, (10%)   MyEDB month 0  happy   \n",
       "6   salary credit  : 10 customers, (10%)   MyEDB month 0  happy   \n",
       "7           non sc : 10 customers, (10%)   MyEDB month 1  happy   \n",
       "8        not myedb : 10 customers, (10%)             NaN    NaN   \n",
       "9        not myedb : 10 customers, (10%)             NaN    NaN   \n",
       "10       not myedb : 10 customers, (10%)             NaN    NaN   \n",
       "\n",
       "               MyEDB  count  \n",
       "0       MyEDB August      5  \n",
       "1       MyEDB August      2  \n",
       "2   not MyEDB August      3  \n",
       "3   not MyEDB August      8  \n",
       "4       MyEDB August      2  \n",
       "5       MyEDB August      4  \n",
       "6       MyEDB August      1  \n",
       "7       MyEDB August      3  \n",
       "8                NaN      4  \n",
       "9                NaN      6  \n",
       "10               NaN      3  "
      ]
     },
     "execution_count": 5,
     "metadata": {},
     "output_type": "execute_result"
    }
   ],
   "source": [
    "import pandas as pd\n",
    "\n",
    "df = pd.read_csv(\"data\\sankey_digram_test_data.csv\") # r\"C:\\Users\\ALIENWARE\\OneDrive\\Python\\CSV\\sankey_digram_test_data.csv\"\n",
    "df"
   ]
  },
  {
   "cell_type": "code",
   "execution_count": 6,
   "metadata": {
    "ExecuteTime": {
     "end_time": "2021-09-17T07:18:00.859482Z",
     "start_time": "2021-09-17T07:18:00.837463Z"
    }
   },
   "outputs": [],
   "source": [
    "def genSankey(df,cat_cols=[],value_cols='',title='Sankey Diagram'):\n",
    "    # maximum of 6 value cols -> 6 colors\n",
    "    colorPalette = ['#4B8BBE','#306998','#FFE873','#FFD43B','#646464']\n",
    "    labelList = []\n",
    "    colorNumList = []\n",
    "    for catCol in cat_cols:\n",
    "        labelListTemp =  list(set(df[catCol].values))\n",
    "        colorNumList.append(len(labelListTemp))\n",
    "        labelList = labelList + labelListTemp\n",
    "        \n",
    "    # remove duplicates from labelList\n",
    "    labelList = list(dict.fromkeys(labelList))\n",
    "    \n",
    "    # define colors based on number of levels\n",
    "    colorList = []\n",
    "    for idx, colorNum in enumerate(colorNumList):\n",
    "        colorList = colorList + [colorPalette[idx]]*colorNum\n",
    "        \n",
    "    # transform df into a source-target pair\n",
    "    for i in range(len(cat_cols)-1):\n",
    "        if i==0:\n",
    "            sourceTargetDf = df[[cat_cols[i],cat_cols[i+1],value_cols]]\n",
    "            sourceTargetDf.columns = ['source','target','count']\n",
    "        else:\n",
    "            tempDf = df[[cat_cols[i],cat_cols[i+1],value_cols]]\n",
    "            tempDf.columns = ['source','target','count']\n",
    "            sourceTargetDf = pd.concat([sourceTargetDf,tempDf])\n",
    "        sourceTargetDf = sourceTargetDf.groupby(['source','target']).agg({'count':'sum'}).reset_index()\n",
    "        \n",
    "    # add index for source-target pair\n",
    "    sourceTargetDf['sourceID'] = sourceTargetDf['source'].apply(lambda x: labelList.index(x))\n",
    "    sourceTargetDf['targetID'] = sourceTargetDf['target'].apply(lambda x: labelList.index(x))\n",
    "    \n",
    "    # creating the sankey diagram\n",
    "    data = dict(\n",
    "        type='sankey',\n",
    "        node = dict(\n",
    "          pad = 15,\n",
    "          thickness = 20,\n",
    "          line = dict(\n",
    "            color = \"black\",\n",
    "            width = 0.5\n",
    "          ),\n",
    "          label = labelList,\n",
    "          color = colorList\n",
    "        ),\n",
    "        link = dict(\n",
    "          source = sourceTargetDf['sourceID'],\n",
    "          target = sourceTargetDf['targetID'],\n",
    "          value = sourceTargetDf['count']\n",
    "        )\n",
    "      )\n",
    "    \n",
    "    layout =  dict(\n",
    "        title = title,\n",
    "        font = dict(\n",
    "          size = 10\n",
    "        )\n",
    "    )\n",
    "       \n",
    "    fig = dict(data=[data], layout=layout)\n",
    "    return fig"
   ]
  },
  {
   "cell_type": "code",
   "execution_count": 8,
   "metadata": {
    "ExecuteTime": {
     "end_time": "2021-09-17T07:19:17.014641Z",
     "start_time": "2021-09-17T07:18:18.866187Z"
    }
   },
   "outputs": [
    {
     "name": "stdout",
     "output_type": "stream",
     "text": [
      "Collecting plotly\n",
      "  Downloading plotly-5.3.1-py2.py3-none-any.whl (23.9 MB)\n",
      "Requirement already satisfied: six in c:\\users\\public\\anaconda3\\lib\\site-packages (from plotly) (1.15.0)\n",
      "Collecting tenacity>=6.2.0\n",
      "  Downloading tenacity-8.0.1-py3-none-any.whl (24 kB)\n",
      "Installing collected packages: tenacity, plotly\n",
      "Successfully installed plotly-5.3.1 tenacity-8.0.1\n"
     ]
    }
   ],
   "source": [
    "# ! pip install plotly"
   ]
  },
  {
   "cell_type": "code",
   "execution_count": 10,
   "metadata": {
    "ExecuteTime": {
     "end_time": "2021-09-17T07:20:59.772861Z",
     "start_time": "2021-09-17T07:20:55.865697Z"
    }
   },
   "outputs": [
    {
     "name": "stdout",
     "output_type": "stream",
     "text": [
      "Collecting chart_studio\n",
      "  Downloading chart_studio-1.1.0-py3-none-any.whl (64 kB)\n",
      "Requirement already satisfied: six in c:\\users\\public\\anaconda3\\lib\\site-packages (from chart_studio) (1.15.0)\n",
      "Requirement already satisfied: requests in c:\\users\\public\\anaconda3\\lib\\site-packages (from chart_studio) (2.24.0)\n",
      "Processing c:\\users\\windows pc\\appdata\\local\\pip\\cache\\wheels\\c4\\a7\\48\\0a434133f6d56e878ca511c0e6c38326907c0792f67b476e56\\retrying-1.3.3-py3-none-any.whl\n",
      "Requirement already satisfied: plotly in c:\\users\\public\\anaconda3\\lib\\site-packages (from chart_studio) (5.3.1)\n",
      "Requirement already satisfied: idna<3,>=2.5 in c:\\users\\public\\anaconda3\\lib\\site-packages (from requests->chart_studio) (2.10)\n",
      "Requirement already satisfied: urllib3!=1.25.0,!=1.25.1,<1.26,>=1.21.1 in c:\\users\\public\\anaconda3\\lib\\site-packages (from requests->chart_studio) (1.25.9)\n",
      "Requirement already satisfied: chardet<4,>=3.0.2 in c:\\users\\public\\anaconda3\\lib\\site-packages (from requests->chart_studio) (3.0.4)\n",
      "Requirement already satisfied: certifi>=2017.4.17 in c:\\users\\public\\anaconda3\\lib\\site-packages (from requests->chart_studio) (2021.5.30)\n",
      "Requirement already satisfied: tenacity>=6.2.0 in c:\\users\\public\\anaconda3\\lib\\site-packages (from plotly->chart_studio) (8.0.1)\n",
      "Installing collected packages: retrying, chart-studio\n",
      "Successfully installed chart-studio-1.1.0 retrying-1.3.3\n"
     ]
    }
   ],
   "source": [
    "# ! pip install chart_studio"
   ]
  },
  {
   "cell_type": "code",
   "execution_count": 12,
   "metadata": {
    "ExecuteTime": {
     "end_time": "2021-09-17T07:21:36.493947Z",
     "start_time": "2021-09-17T07:21:36.385069Z"
    }
   },
   "outputs": [
    {
     "data": {
      "text/plain": [
       "'temp-plot.html'"
      ]
     },
     "execution_count": 12,
     "metadata": {},
     "output_type": "execute_result"
    }
   ],
   "source": [
    "import pandas as pd\n",
    "import plotly\n",
    "#import plotly.plotly as py\n",
    "import chart_studio.plotly as py\n",
    "\n",
    "fig = genSankey(df,cat_cols=['lvl1','lvl2_display','lvl3','lvl4', 'MyEDB'],value_cols='count',title='Word Etymology')\n",
    "plotly.offline.plot(fig, validate=False)"
   ]
  },
  {
   "cell_type": "code",
   "execution_count": null,
   "metadata": {},
   "outputs": [],
   "source": []
  },
  {
   "cell_type": "code",
   "execution_count": null,
   "metadata": {},
   "outputs": [],
   "source": []
  },
  {
   "cell_type": "code",
   "execution_count": null,
   "metadata": {},
   "outputs": [],
   "source": []
  },
  {
   "cell_type": "code",
   "execution_count": null,
   "metadata": {},
   "outputs": [],
   "source": []
  },
  {
   "cell_type": "code",
   "execution_count": null,
   "metadata": {},
   "outputs": [],
   "source": []
  },
  {
   "cell_type": "code",
   "execution_count": null,
   "metadata": {},
   "outputs": [],
   "source": []
  },
  {
   "cell_type": "code",
   "execution_count": null,
   "metadata": {},
   "outputs": [],
   "source": []
  },
  {
   "cell_type": "code",
   "execution_count": null,
   "metadata": {},
   "outputs": [],
   "source": []
  },
  {
   "cell_type": "code",
   "execution_count": null,
   "metadata": {},
   "outputs": [],
   "source": []
  },
  {
   "cell_type": "code",
   "execution_count": null,
   "metadata": {},
   "outputs": [],
   "source": []
  },
  {
   "cell_type": "code",
   "execution_count": null,
   "metadata": {},
   "outputs": [],
   "source": []
  },
  {
   "cell_type": "code",
   "execution_count": null,
   "metadata": {},
   "outputs": [],
   "source": []
  }
 ],
 "metadata": {
  "hide_input": false,
  "kernelspec": {
   "display_name": "Python 3",
   "language": "python",
   "name": "python3"
  },
  "language_info": {
   "codemirror_mode": {
    "name": "ipython",
    "version": 3
   },
   "file_extension": ".py",
   "mimetype": "text/x-python",
   "name": "python",
   "nbconvert_exporter": "python",
   "pygments_lexer": "ipython3",
   "version": "3.8.5"
  },
  "toc": {
   "base_numbering": 1,
   "nav_menu": {},
   "number_sections": true,
   "sideBar": true,
   "skip_h1_title": false,
   "title_cell": "Table of Contents",
   "title_sidebar": "Contents",
   "toc_cell": true,
   "toc_position": {
    "height": "calc(100% - 180px)",
    "left": "10px",
    "top": "150px",
    "width": "384px"
   },
   "toc_section_display": true,
   "toc_window_display": true
  }
 },
 "nbformat": 4,
 "nbformat_minor": 4
}
