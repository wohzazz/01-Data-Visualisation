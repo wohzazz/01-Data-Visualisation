{
 "cells": [
  {
   "cell_type": "markdown",
   "metadata": {
    "toc": true
   },
   "source": [
    "<h1>Table of Contents<span class=\"tocSkip\"></span></h1>\n",
    "<div class=\"toc\"><ul class=\"toc-item\"><li><span><a href=\"#fdf-function-(aka-format-DataFrame)\" data-toc-modified-id=\"fdf-function-(aka-format-DataFrame)-1\"><span class=\"toc-item-num\">1&nbsp;&nbsp;</span>fdf function (aka format DataFrame)</a></span></li><li><span><a href=\"#write_to_excel-function\" data-toc-modified-id=\"write_to_excel-function-2\"><span class=\"toc-item-num\">2&nbsp;&nbsp;</span>write_to_excel function</a></span><ul class=\"toc-item\"><li><span><a href=\"#using-pandas-to_excel\" data-toc-modified-id=\"using-pandas-to_excel-2.1\"><span class=\"toc-item-num\">2.1&nbsp;&nbsp;</span>using pandas to_excel</a></span></li><li><span><a href=\"#using-openpyxl\" data-toc-modified-id=\"using-openpyxl-2.2\"><span class=\"toc-item-num\">2.2&nbsp;&nbsp;</span>using openpyxl</a></span><ul class=\"toc-item\"><li><span><a href=\"#write_to_excel_openpyxl\" data-toc-modified-id=\"write_to_excel_openpyxl-2.2.1\"><span class=\"toc-item-num\">2.2.1&nbsp;&nbsp;</span>write_to_excel_openpyxl</a></span></li></ul></li></ul></li></ul></div>"
   ]
  },
  {
   "cell_type": "code",
   "execution_count": null,
   "metadata": {},
   "outputs": [],
   "source": []
  },
  {
   "cell_type": "markdown",
   "metadata": {},
   "source": [
    "# fdf function (aka format DataFrame)\n",
    "format and styles DataFrame for display in Jupyter Notebook"
   ]
  },
  {
   "cell_type": "code",
   "execution_count": 187,
   "metadata": {
    "ExecuteTime": {
     "end_time": "2022-02-22T23:56:08.593591Z",
     "start_time": "2022-02-22T23:56:08.568568Z"
    }
   },
   "outputs": [
    {
     "name": "stdout",
     "output_type": "stream",
     "text": [
      "<class 'pandas.core.frame.DataFrame'>\n",
      "RangeIndex: 2 entries, 0 to 1\n",
      "Data columns (total 6 columns):\n",
      " #   Column  Non-Null Count  Dtype  \n",
      "---  ------  --------------  -----  \n",
      " 0   CAT1    2 non-null      object \n",
      " 1   CAT2    2 non-null      object \n",
      " 2   CAT3    2 non-null      object \n",
      " 3   INT1    2 non-null      int64  \n",
      " 4   FLOAT1  2 non-null      float64\n",
      " 5   PERC1   2 non-null      float64\n",
      "dtypes: float64(2), int64(1), object(3)\n",
      "memory usage: 224.0+ bytes\n"
     ]
    },
    {
     "data": {
      "text/html": [
       "<style type=\"text/css\">\n",
       "#T_b08e3_row0_col3, #T_b08e3_row0_col4, #T_b08e3_row1_col5 {\n",
       "  background-color: #f7fbff;\n",
       "  color: #000000;\n",
       "}\n",
       "#T_b08e3_row0_col5, #T_b08e3_row1_col3, #T_b08e3_row1_col4 {\n",
       "  background-color: #08306b;\n",
       "  color: #f1f1f1;\n",
       "}\n",
       "</style>\n",
       "<table id=\"T_b08e3\">\n",
       "  <thead>\n",
       "    <tr>\n",
       "      <th class=\"blank level0\" >&nbsp;</th>\n",
       "      <th id=\"T_b08e3_level0_col0\" class=\"col_heading level0 col0\" >CAT1</th>\n",
       "      <th id=\"T_b08e3_level0_col1\" class=\"col_heading level0 col1\" >CAT2</th>\n",
       "      <th id=\"T_b08e3_level0_col2\" class=\"col_heading level0 col2\" >CAT3</th>\n",
       "      <th id=\"T_b08e3_level0_col3\" class=\"col_heading level0 col3\" >INT1</th>\n",
       "      <th id=\"T_b08e3_level0_col4\" class=\"col_heading level0 col4\" >FLOAT1</th>\n",
       "      <th id=\"T_b08e3_level0_col5\" class=\"col_heading level0 col5\" >PERC1</th>\n",
       "    </tr>\n",
       "  </thead>\n",
       "  <tbody>\n",
       "    <tr>\n",
       "      <th id=\"T_b08e3_level0_row0\" class=\"row_heading level0 row0\" >0</th>\n",
       "      <td id=\"T_b08e3_row0_col0\" class=\"data row0 col0\" >A</td>\n",
       "      <td id=\"T_b08e3_row0_col1\" class=\"data row0 col1\" >Z1</td>\n",
       "      <td id=\"T_b08e3_row0_col2\" class=\"data row0 col2\" >23</td>\n",
       "      <td id=\"T_b08e3_row0_col3\" class=\"data row0 col3\" >1</td>\n",
       "      <td id=\"T_b08e3_row0_col4\" class=\"data row0 col4\" >1.210000</td>\n",
       "      <td id=\"T_b08e3_row0_col5\" class=\"data row0 col5\" >66.0%</td>\n",
       "    </tr>\n",
       "    <tr>\n",
       "      <th id=\"T_b08e3_level0_row1\" class=\"row_heading level0 row1\" >1</th>\n",
       "      <td id=\"T_b08e3_row1_col0\" class=\"data row1 col0\" >B</td>\n",
       "      <td id=\"T_b08e3_row1_col1\" class=\"data row1 col1\" >Z2</td>\n",
       "      <td id=\"T_b08e3_row1_col2\" class=\"data row1 col2\" >24</td>\n",
       "      <td id=\"T_b08e3_row1_col3\" class=\"data row1 col3\" >2</td>\n",
       "      <td id=\"T_b08e3_row1_col4\" class=\"data row1 col4\" >1.320000</td>\n",
       "      <td id=\"T_b08e3_row1_col5\" class=\"data row1 col5\" >58.0%</td>\n",
       "    </tr>\n",
       "  </tbody>\n",
       "</table>\n"
      ],
      "text/plain": [
       "<pandas.io.formats.style.Styler at 0x231b623ef40>"
      ]
     },
     "execution_count": 187,
     "metadata": {},
     "output_type": "execute_result"
    }
   ],
   "source": [
    "def fdf(data, def_float_format = '{:,.3f}', formats_dict = {}, percentage_list = None, string_list = None):\n",
    "    \"\"\"Format and style DataFrame for Jupyter Notebook display \n",
    "    Last updated 23.02.2022\n",
    "    \n",
    "    What it does:\n",
    "    \n",
    "    By default, there will be an attempt to change all object/string columns to 'float'. \n",
    "    'int' and 'object' format will remain as is. DataFrame will then be styled and displayed with heatmap 'Blues'\n",
    "    formatting on integer or float format columns\n",
    "\n",
    "    parameters:\n",
    "    \n",
    "    (required)\n",
    "    \n",
    "        data: DataFrame of data\n",
    "    \n",
    "\n",
    "        \n",
    "        \n",
    "    (with defaults)\n",
    "    \n",
    "        formats_dict: dictionary of formats \n",
    "        string_list: list of columns to be formatted as string. Defaults to None\n",
    "        percentage_list: list of columns identified as percentage columns. Defaults to None\n",
    "        def_float_format: set default format for 'float'. default to '{:,.3f}' (3 decimal places)    \n",
    "        \n",
    "        \n",
    "    \"\"\"\n",
    "    import copy\n",
    "    df = copy.deepcopy(data)\n",
    "    #\n",
    "    if percentage_list == None:\n",
    "        percentage_list = []\n",
    "    if string_list == None:\n",
    "        string_list = []\n",
    "    for col in percentage_list:\n",
    "        df[col] = df[col]*100\n",
    "    \n",
    "    # process df before displaying\n",
    "    col_list = list(df.select_dtypes(['object']).columns)\n",
    "#     print(col_list)\n",
    "    for col in string_list:\n",
    "        try:\n",
    "            col_list.remove(col)\n",
    "        except:\n",
    "            pass\n",
    "#     print(col_list)\n",
    "    for col in col_list:\n",
    "        \n",
    "        try:\n",
    "            df[col] = df[col].astype('float')\n",
    "        except:\n",
    "            pass\n",
    "#     df.info()\n",
    "\n",
    "#     # style and display df##################################################\n",
    "    # initialise format dictionary\n",
    "    format_string = {}      \n",
    "    # format object type as 'float' unless in string list\n",
    "    for col in df.select_dtypes('float').columns:\n",
    "            format_string[col] = def_float_format\n",
    "#     print(format_string) # before\n",
    "    format_string.update(formats_dict) # merge with custom defined formats\n",
    "#     print(format_string)\n",
    "    return df.style.background_gradient(cmap = 'Blues').format(format_string).format(formats_dict)\n",
    "\n",
    "\n",
    "##############sample data for illustration################################################################################################################\n",
    "\n",
    "import pandas as pd\n",
    "\n",
    "df = pd.DataFrame([['A', 'Z1', '23', 1, 1.21, 0.66]\n",
    "                   , ['B', 'Z2', '24', 2, 1.32, 0.58]\n",
    "    \n",
    "], columns = ['CAT1', 'CAT2', 'CAT3', 'INT1', 'FLOAT1', 'PERC1'])\n",
    "df.info()\n",
    "df\n",
    "##########################################################################################################################################################\n",
    "\n",
    "# help(fdf)\n",
    "# fdf(df)\n",
    "fdf(df, string_list = ['CAT3'], formats_dict = {'PERC1': '{:,.1f}%'})\n",
    "fdf(df, string_list = ['CAT3'], formats_dict = {'PERC1': '{:,.1f}%'}, percentage_list=['PERC1'])\n",
    "\n",
    "##########################################################################################################################################################"
   ]
  },
  {
   "cell_type": "markdown",
   "metadata": {},
   "source": [
    "# write_to_excel function\n",
    "\n"
   ]
  },
  {
   "cell_type": "code",
   "execution_count": 21,
   "metadata": {
    "ExecuteTime": {
     "end_time": "2022-02-22T11:59:32.188256Z",
     "start_time": "2022-02-22T11:59:29.287621Z"
    }
   },
   "outputs": [
    {
     "name": "stdout",
     "output_type": "stream",
     "text": [
      "Requirement already satisfied: xlsxwriter in c:\\users\\public\\anaconda3\\lib\\site-packages (1.3.7)\n"
     ]
    }
   ],
   "source": [
    "!pip install xlsxwriter "
   ]
  },
  {
   "cell_type": "markdown",
   "metadata": {},
   "source": [
    "## using pandas to_excel"
   ]
  },
  {
   "cell_type": "code",
   "execution_count": 46,
   "metadata": {
    "ExecuteTime": {
     "end_time": "2022-02-22T12:32:41.212408Z",
     "start_time": "2022-02-22T12:32:41.181387Z"
    }
   },
   "outputs": [],
   "source": [
    "# sample data ###########################################################################################################################\n",
    "\n",
    "import pandas as pd\n",
    "\n",
    "df = pd.DataFrame([['A', 'Z1', '23', 1, 1.21, 0.66]\n",
    "                   , ['B', 'Z2', '24', 2, 1.32, 0.58]\n",
    "    \n",
    "], columns = ['CAT1', 'CAT2', 'CAT3', 'INT1', 'FLOAT1', 'PERC1'])\n",
    "# df.info()\n",
    "# df\n",
    "#####################################################################################################################################\n",
    "\n",
    "file_name = 'data/write_to_excel3.xlsx'\n",
    "sheet_name = 'Summary'\n",
    "startrow = 2 # third row \n",
    "\n",
    "#####################################################################################################################################\n",
    "\n",
    "# write to excel\n",
    "df.to_excel(file_name, sheet_name=sheet_name, startrow = startrow, index=False)\n"
   ]
  },
  {
   "cell_type": "markdown",
   "metadata": {},
   "source": [
    "## using openpyxl"
   ]
  },
  {
   "cell_type": "code",
   "execution_count": 129,
   "metadata": {
    "ExecuteTime": {
     "end_time": "2022-02-22T22:52:22.573014Z",
     "start_time": "2022-02-22T22:52:22.530976Z"
    }
   },
   "outputs": [
    {
     "name": "stdout",
     "output_type": "stream",
     "text": [
      "<class 'pandas.core.frame.DataFrame'>\n",
      "RangeIndex: 2 entries, 0 to 1\n",
      "Data columns (total 6 columns):\n",
      " #   Column  Non-Null Count  Dtype  \n",
      "---  ------  --------------  -----  \n",
      " 0   CAT1    2 non-null      object \n",
      " 1   CAT2    2 non-null      object \n",
      " 2   CAT3    2 non-null      object \n",
      " 3   INT1    2 non-null      int64  \n",
      " 4   FLOAT1  2 non-null      float64\n",
      " 5   PERC1   2 non-null      float64\n",
      "dtypes: float64(2), int64(1), object(3)\n",
      "memory usage: 224.0+ bytes\n"
     ]
    }
   ],
   "source": [
    "df = pd.DataFrame([['A', 'Z1', '23', 1, 1.21, 0.66]\n",
    "                   , ['B', 'Z2', '24', 2, 1.32, 0.58]\n",
    "    \n",
    "], columns = ['CAT1', 'CAT2', 'CAT3', 'INT1', 'FLOAT1', 'PERC1'])\n",
    "\n",
    "# df_agg = pd.DataFrame()\n",
    "# for i in range(10):\n",
    "#     df_agg = pd.concat([df_agg, df], axis=1 )\n",
    "df.info()\n",
    "# display(df)\n",
    "\n",
    "\n",
    "row_offset = 2\n",
    "col_offset = 0\n",
    "table_title = 'Table 1 of good stuff!'\n",
    "# table_title = None\n",
    "column_formats = ['Normal', 'Normal','Normal','Normal','Normal','Percent']\n",
    "left_align_col = ['CAT1', 'CAT2', 'CAT3']\n",
    "\n",
    "# import openpyxl module, for styling see https://www.blog.pythonlibrary.org/2021/08/11/styling-excel-cells-with-openpyxl-and-python/\n",
    "import openpyxl\n",
    "from openpyxl.styles import Font\n",
    "from openpyxl.styles import PatternFill\n",
    "from openpyxl.styles import Border, Side\n",
    "from openpyxl.styles import Alignment\n",
    "\n",
    "# Call a Workbook() function of openpyxl to create a new blank Workbook object\n",
    "wb = openpyxl.Workbook()\n",
    "  \n",
    "# Get workbook active sheet from the active attribute\n",
    "sheet = wb.active\n",
    "\n",
    "# define colors to be used later\n",
    "pink = \"00FF00FF\"\n",
    "green = \"00008000\"\n",
    "black = \"000000\"\n",
    "navy = \"000080\"\n",
    "white = \"FFFFFF\"\n",
    "\n",
    "thin = Side(border_style=\"thin\", color=navy)\n",
    "double = Side(border_style=\"double\", color=navy)\n",
    "\n",
    "# write title (if exists)\n",
    "cell = sheet.cell(row =1, column = 1)\n",
    "cell.value = table_title\n",
    "cell.font = Font(name=\"Calibri\", size=15, color=navy, bold =True)\n",
    "\n",
    "# write table headings  \n",
    "for i, col in enumerate(df.columns):\n",
    "    cell = sheet.cell(row =1+row_offset, column = 1+i+col_offset)\n",
    "    cell.value = col\n",
    "    cell.font = Font(name=\"Calibri\", size=11, color=white, bold =True)\n",
    "    cell.fill = PatternFill(start_color=black, end_color=black,\n",
    "                                        fill_type = \"solid\")\n",
    "    cell.alignment= Alignment(horizontal='left',\n",
    "                                      vertical='top')\n",
    "# write table contents\n",
    "for r, j in df.iterrows():\n",
    "    for n in range(len(j)):\n",
    "#         print(j[n])\n",
    "        cell = sheet.cell(row =1+r+row_offset+1, column = 1+n+col_offset)\n",
    "        cell.value = j[n]\n",
    "        cell.style = column_formats[n]\n",
    "        cell.font = Font(name=\"Calibri\", size=11, color=black)\n",
    "        cell.border = Border(top=thin, left=thin, right=thin, bottom=thin)\n",
    "\n",
    "        # apply columns to not apply default right align (defined in left_align_col)\n",
    "        skip_n_list = [] # values to skip\n",
    "        for col in df.columns:\n",
    "            try:\n",
    "                skip_n_list += [left_align_col.index(col)]\n",
    "            except:\n",
    "                pass\n",
    "#         skip_n_list\n",
    "        if n not in skip_n_list:\n",
    "            cell.alignment= Alignment(horizontal='right',\n",
    "                                      vertical='center')\n",
    "        \n",
    "wb.save(\"data/excel_output_openpyxl.xlsx\")"
   ]
  },
  {
   "cell_type": "markdown",
   "metadata": {},
   "source": [
    "### write_to_excel_openpyxl"
   ]
  },
  {
   "cell_type": "code",
   "execution_count": 188,
   "metadata": {
    "ExecuteTime": {
     "end_time": "2022-02-23T00:17:02.524627Z",
     "start_time": "2022-02-23T00:17:02.481587Z"
    }
   },
   "outputs": [
    {
     "name": "stdout",
     "output_type": "stream",
     "text": [
      "<class 'pandas.core.frame.DataFrame'>\n",
      "RangeIndex: 2 entries, 0 to 1\n",
      "Data columns (total 7 columns):\n",
      " #   Column   Non-Null Count  Dtype  \n",
      "---  ------   --------------  -----  \n",
      " 0   CAT1     2 non-null      object \n",
      " 1   CAT2     2 non-null      object \n",
      " 2   CAT3     2 non-null      object \n",
      " 3   INT1     2 non-null      int64  \n",
      " 4   FLOAT1   2 non-null      float64\n",
      " 5   DOLLAR1  2 non-null      float64\n",
      " 6   PERC1    2 non-null      float64\n",
      "dtypes: float64(3), int64(1), object(3)\n",
      "memory usage: 240.0+ bytes\n",
      "Data outputted to \"data/excel_output_illustration.xlsx\" ...\n"
     ]
    }
   ],
   "source": [
    "def write_to_excel_openpyxl(df, column_formats\n",
    "                           ,output_file = 'data/excel_output_openpyxl.xlsx' ,table_title = None ,row_offset =2 , col_offset = 0, left_align_col = []\n",
    "                           ):\n",
    "    \"\"\"\n",
    "    Writes to excel using openpyxl library\n",
    "    Last updated 23.02.2022\n",
    "    \n",
    "    argments\n",
    "    \n",
    "    (required arguments)\n",
    "    \n",
    "    df: DataFrame of data to output to excel\n",
    "    column_formats: a list of formats with length equal to the number of columns in the table defined as data. If default formatting or no formatting preferred set to 'Normal'.\n",
    "        for example, for a 6 column table, columns formats could be defined as ['Normal', 'Normal','Normal','Normal','Normal','Percent']\n",
    "    \n",
    "    \n",
    "    (option arguments with defaults)\n",
    "    output_file = path + file name of output file. Defaults to 'data/excel_output_openpyxl.xlsx'\n",
    "    table_title: Table heading appearing in cell A1 with slighly larger navy font. Defaults to None\n",
    "    row_offset: row to output table. 2 refers to row 3. Defaults to row 3.\n",
    "    col_offset: column to start to output table. 0 refers to column 2. Defaults to column 2.\n",
    "    left_align_col: list of columns to left aligned. should be a subset of the full list of column names. Defaults to an empty list []\n",
    "    \n",
    "    Formats for column_formats (more can be found in official documentation https://openpyxl.readthedocs.io/en/stable/styles.html#using-builtin-styles):\n",
    "\n",
    "            'Comma'\n",
    "            ‘Comma [0]’\n",
    "            'Percent'\n",
    "\n",
    "    \n",
    "    \"\"\"\n",
    "\n",
    "    # import openpyxl module, for styling see https://www.blog.pythonlibrary.org/2021/08/11/styling-excel-cells-with-openpyxl-and-python/\n",
    "    import openpyxl\n",
    "    from openpyxl.styles import Font, PatternFill, Border, Side, Alignment\n",
    "\n",
    "    # Call a Workbook() function of openpyxl to create a new blank Workbook object\n",
    "    wb = openpyxl.Workbook()\n",
    "\n",
    "    # Get workbook active sheet from the active attribute\n",
    "    sheet = wb.active\n",
    "\n",
    "    # define colors to be used later\n",
    "    pink = \"00FF00FF\"\n",
    "    green = \"00008000\"\n",
    "    black = \"000000\"\n",
    "    navy = \"000080\"\n",
    "    white = \"FFFFFF\"\n",
    "\n",
    "    thin = Side(border_style=\"thin\", color=navy)\n",
    "    double = Side(border_style=\"double\", color=navy)\n",
    "\n",
    "    # write title (if exists)\n",
    "    cell = sheet.cell(row =1, column = 1)\n",
    "    cell.value = table_title\n",
    "    cell.font = Font(name=\"Calibri\", size=15, color=navy, bold =True)\n",
    "\n",
    "    # write table headings  \n",
    "    for i, col in enumerate(df.columns):\n",
    "        cell = sheet.cell(row =1+row_offset, column = 1+i+col_offset)\n",
    "        cell.value = col\n",
    "        cell.font = Font(name=\"Calibri\", size=11, color=white, bold =True)\n",
    "        cell.fill = PatternFill(start_color=black, end_color=black,\n",
    "                                            fill_type = \"solid\")\n",
    "        cell.alignment= Alignment(horizontal='left',\n",
    "                                          vertical='top')\n",
    "    # write table contents\n",
    "    for r, j in df.iterrows():\n",
    "        for n in range(len(j)):\n",
    "    #         print(j[n])\n",
    "            cell = sheet.cell(row =1+r+row_offset+1, column = 1+n+col_offset)\n",
    "            cell.value = j[n]\n",
    "            cell.style = column_formats[n]\n",
    "            cell.font = Font(name=\"Calibri\", size=11, color=black)\n",
    "            cell.border = Border(top=thin, left=thin, right=thin, bottom=thin)\n",
    "\n",
    "            # apply columns to not apply default right align (defined in left_align_col)\n",
    "            skip_n_list = [] # values to skip\n",
    "            for col in df.columns:\n",
    "                try:\n",
    "                    skip_n_list += [left_align_col.index(col)]\n",
    "                except:\n",
    "                    pass\n",
    "    #         skip_n_list\n",
    "            if n not in skip_n_list:\n",
    "                cell.alignment= Alignment(horizontal='right',\n",
    "                                          vertical='center')\n",
    " \n",
    "    wb.save(output_file)\n",
    "    print('Data outputted to \"{}\" ...'.format(output_file))\n",
    "\n",
    "# sample data for illustration of the function ##############################################################################################\n",
    "df = pd.DataFrame([['A', 'Z1', '23', 1, 1.21, 59.12, 0.66]\n",
    "                   , ['B', 'Z2', '24', 2, 1.32, 38.15, 0.58]\n",
    "    \n",
    "], columns = ['CAT1', 'CAT2', 'CAT3', 'INT1', 'FLOAT1', 'DOLLAR1', 'PERC1'])\n",
    "df.info()\n",
    "# display(df)\n",
    "fdf(df) #use reusable 'format DataFrame function'\n",
    "############################################################################################################################################\n",
    "write_to_excel_openpyxl(df = df, column_formats = ['Normal','Normal','Normal','Normal','Normal','Normal', 'Percent']\n",
    "                           ,output_file = 'data/excel_output_illustration.xlsx' ,table_title = 'Sample excel write demo' ,row_offset =2 , col_offset = 0, left_align_col = ['CAT1', 'CAT2', 'CAT3']\n",
    "                           )"
   ]
  },
  {
   "cell_type": "code",
   "execution_count": 172,
   "metadata": {
    "ExecuteTime": {
     "end_time": "2022-02-22T23:43:20.257860Z",
     "start_time": "2022-02-22T23:43:20.242848Z"
    }
   },
   "outputs": [
    {
     "name": "stdout",
     "output_type": "stream",
     "text": [
      "<class 'pandas.core.frame.DataFrame'>\n",
      "RangeIndex: 2 entries, 0 to 1\n",
      "Data columns (total 7 columns):\n",
      " #   Column   Non-Null Count  Dtype  \n",
      "---  ------   --------------  -----  \n",
      " 0   CAT1     2 non-null      object \n",
      " 1   CAT2     2 non-null      object \n",
      " 2   CAT3     2 non-null      object \n",
      " 3   INT1     2 non-null      int64  \n",
      " 4   FLOAT1   2 non-null      float64\n",
      " 5   DOLLAR1  2 non-null      float64\n",
      " 6   PERC1    2 non-null      float64\n",
      "dtypes: float64(3), int64(1), object(3)\n",
      "memory usage: 240.0+ bytes\n"
     ]
    },
    {
     "data": {
      "text/html": [
       "<style type=\"text/css\">\n",
       "#T_84144_row0_col3, #T_84144_row0_col4, #T_84144_row1_col5, #T_84144_row1_col6 {\n",
       "  background-color: #f7fbff;\n",
       "  color: #000000;\n",
       "}\n",
       "#T_84144_row0_col5, #T_84144_row0_col6, #T_84144_row1_col3, #T_84144_row1_col4 {\n",
       "  background-color: #08306b;\n",
       "  color: #f1f1f1;\n",
       "}\n",
       "</style>\n",
       "<table id=\"T_84144\">\n",
       "  <thead>\n",
       "    <tr>\n",
       "      <th class=\"blank level0\" >&nbsp;</th>\n",
       "      <th id=\"T_84144_level0_col0\" class=\"col_heading level0 col0\" >CAT1</th>\n",
       "      <th id=\"T_84144_level0_col1\" class=\"col_heading level0 col1\" >CAT2</th>\n",
       "      <th id=\"T_84144_level0_col2\" class=\"col_heading level0 col2\" >CAT3</th>\n",
       "      <th id=\"T_84144_level0_col3\" class=\"col_heading level0 col3\" >INT1</th>\n",
       "      <th id=\"T_84144_level0_col4\" class=\"col_heading level0 col4\" >FLOAT1</th>\n",
       "      <th id=\"T_84144_level0_col5\" class=\"col_heading level0 col5\" >DOLLAR1</th>\n",
       "      <th id=\"T_84144_level0_col6\" class=\"col_heading level0 col6\" >PERC1</th>\n",
       "    </tr>\n",
       "  </thead>\n",
       "  <tbody>\n",
       "    <tr>\n",
       "      <th id=\"T_84144_level0_row0\" class=\"row_heading level0 row0\" >0</th>\n",
       "      <td id=\"T_84144_row0_col0\" class=\"data row0 col0\" >A</td>\n",
       "      <td id=\"T_84144_row0_col1\" class=\"data row0 col1\" >Z1</td>\n",
       "      <td id=\"T_84144_row0_col2\" class=\"data row0 col2\" >23</td>\n",
       "      <td id=\"T_84144_row0_col3\" class=\"data row0 col3\" >1</td>\n",
       "      <td id=\"T_84144_row0_col4\" class=\"data row0 col4\" >1.210</td>\n",
       "      <td id=\"T_84144_row0_col5\" class=\"data row0 col5\" >59.120</td>\n",
       "      <td id=\"T_84144_row0_col6\" class=\"data row0 col6\" >66.0%</td>\n",
       "    </tr>\n",
       "    <tr>\n",
       "      <th id=\"T_84144_level0_row1\" class=\"row_heading level0 row1\" >1</th>\n",
       "      <td id=\"T_84144_row1_col0\" class=\"data row1 col0\" >B</td>\n",
       "      <td id=\"T_84144_row1_col1\" class=\"data row1 col1\" >Z2</td>\n",
       "      <td id=\"T_84144_row1_col2\" class=\"data row1 col2\" >24</td>\n",
       "      <td id=\"T_84144_row1_col3\" class=\"data row1 col3\" >2</td>\n",
       "      <td id=\"T_84144_row1_col4\" class=\"data row1 col4\" >1.320</td>\n",
       "      <td id=\"T_84144_row1_col5\" class=\"data row1 col5\" >38.150</td>\n",
       "      <td id=\"T_84144_row1_col6\" class=\"data row1 col6\" >58.0%</td>\n",
       "    </tr>\n",
       "  </tbody>\n",
       "</table>\n"
      ],
      "text/plain": [
       "<pandas.io.formats.style.Styler at 0x231b6158340>"
      ]
     },
     "execution_count": 172,
     "metadata": {},
     "output_type": "execute_result"
    }
   ],
   "source": [
    "df = pd.DataFrame([['A', 'Z1', '23', 1, 1.21, 59.12, 0.66]\n",
    "                   , ['B', 'Z2', '24', 2, 1.32, 38.15, 0.58]\n",
    "    \n",
    "], columns = ['CAT1', 'CAT2', 'CAT3', 'INT1', 'FLOAT1', 'DOLLAR1', 'PERC1'])\n",
    "df.info()\n",
    "fdf(df, percentage_list= ['PERC1'], string_list = ['CAT1', 'CAT2', 'CAT3'])"
   ]
  },
  {
   "cell_type": "code",
   "execution_count": 169,
   "metadata": {
    "ExecuteTime": {
     "end_time": "2022-02-22T23:43:20.177788Z",
     "start_time": "2022-02-22T23:43:20.163776Z"
    }
   },
   "outputs": [
    {
     "name": "stdout",
     "output_type": "stream",
     "text": [
      "Help on function fdf in module __main__:\n",
      "\n",
      "fdf(data, def_float_format='{:,.3f}', percentage_list=None, string_list=None)\n",
      "    Format and style DataFrame for Jupyter Notebook display \n",
      "    \n",
      "    What it does:\n",
      "    \n",
      "    By default, there will be an attempt to change all object/string columns to 'float'. \n",
      "    'int' and 'object' format will remain as is. DataFrame will then be styled and displayed with heatmap 'Blues'\n",
      "    formatting on integer or float format columns\n",
      "    \n",
      "    parameters:\n",
      "    \n",
      "    (required)\n",
      "    \n",
      "        data: DataFrame of data\n",
      "    \n",
      "    \n",
      "        \n",
      "        \n",
      "    (with defaults)\n",
      "    \n",
      "        percentage_list: list of columns to be formatted as percentage with 1 decimal place. Defaults to None\n",
      "        string_list: list of columns to be formatted as string. Defaults to None\n",
      "        def_float_format: set default format for 'float'. default to '{:,.3f}' (3 decimal places)\n",
      "\n"
     ]
    }
   ],
   "source": [
    "help(fdf)"
   ]
  },
  {
   "cell_type": "code",
   "execution_count": null,
   "metadata": {},
   "outputs": [],
   "source": []
  },
  {
   "cell_type": "code",
   "execution_count": null,
   "metadata": {},
   "outputs": [],
   "source": []
  },
  {
   "cell_type": "code",
   "execution_count": null,
   "metadata": {},
   "outputs": [],
   "source": []
  },
  {
   "cell_type": "code",
   "execution_count": null,
   "metadata": {},
   "outputs": [],
   "source": []
  },
  {
   "cell_type": "code",
   "execution_count": null,
   "metadata": {},
   "outputs": [],
   "source": []
  },
  {
   "cell_type": "code",
   "execution_count": null,
   "metadata": {},
   "outputs": [],
   "source": []
  },
  {
   "cell_type": "code",
   "execution_count": null,
   "metadata": {},
   "outputs": [],
   "source": []
  },
  {
   "cell_type": "code",
   "execution_count": null,
   "metadata": {},
   "outputs": [],
   "source": []
  },
  {
   "cell_type": "code",
   "execution_count": null,
   "metadata": {},
   "outputs": [],
   "source": []
  },
  {
   "cell_type": "code",
   "execution_count": null,
   "metadata": {},
   "outputs": [],
   "source": []
  },
  {
   "cell_type": "code",
   "execution_count": null,
   "metadata": {},
   "outputs": [],
   "source": []
  },
  {
   "cell_type": "code",
   "execution_count": null,
   "metadata": {},
   "outputs": [],
   "source": []
  },
  {
   "cell_type": "code",
   "execution_count": null,
   "metadata": {},
   "outputs": [],
   "source": []
  },
  {
   "cell_type": "code",
   "execution_count": null,
   "metadata": {},
   "outputs": [],
   "source": []
  }
 ],
 "metadata": {
  "hide_input": false,
  "kernelspec": {
   "display_name": "Python 3",
   "language": "python",
   "name": "python3"
  },
  "language_info": {
   "codemirror_mode": {
    "name": "ipython",
    "version": 3
   },
   "file_extension": ".py",
   "mimetype": "text/x-python",
   "name": "python",
   "nbconvert_exporter": "python",
   "pygments_lexer": "ipython3",
   "version": "3.8.5"
  },
  "toc": {
   "base_numbering": 1,
   "nav_menu": {},
   "number_sections": true,
   "sideBar": true,
   "skip_h1_title": false,
   "title_cell": "Table of Contents",
   "title_sidebar": "Contents",
   "toc_cell": true,
   "toc_position": {
    "height": "calc(100% - 180px)",
    "left": "10px",
    "top": "150px",
    "width": "550.4px"
   },
   "toc_section_display": true,
   "toc_window_display": true
  }
 },
 "nbformat": 4,
 "nbformat_minor": 4
}
